{
 "cells": [
  {
   "cell_type": "code",
   "execution_count": 1,
   "metadata": {},
   "outputs": [],
   "source": [
    "import pandas as pd\n",
    "df = pd.read_csv('document.csv')\n",
    "# print(df)"
   ]
  },
  {
   "cell_type": "code",
   "execution_count": 2,
   "metadata": {
    "collapsed": true
   },
   "outputs": [],
   "source": [
    "from io import StringIO\n",
    "col = ['label', 'text']\n",
    "df = df[col]\n",
    "df = df[pd.notnull(df['text'])]\n",
    "df.columns = ['label', 'text']\n",
    "df['category_id'] = df['label'].factorize()[0]\n",
    "category_id_df = df[['label', 'category_id']].drop_duplicates().sort_values('category_id')\n",
    "category_to_id = dict(category_id_df.values)\n",
    "id_to_category = dict(category_id_df[['category_id', 'label']].values)"
   ]
  },
  {
   "cell_type": "code",
   "execution_count": 3,
   "metadata": {},
   "outputs": [
    {
     "data": {
      "image/png": "[encoded data removed]",
      "text/plain": [
       "<matplotlib.figure.Figure at 0x7fafa56e52b0>"
      ]
     },
     "metadata": {},
     "output_type": "display_data"
    }
   ],
   "source": [
    "import matplotlib.pyplot as plt\n",
    "# fig = plt.figure(figsize=(8,6))\n",
    "df.groupby('label').text.count().plot.bar(ylim=0)\n",
    "plt.show()"
   ]
  },
  {
   "cell_type": "code",
   "execution_count": 4,
   "metadata": {},
   "outputs": [
    {
     "data": {
      "text/plain": [
       "(5000, 34465)"
      ]
     },
     "execution_count": 4,
     "metadata": {},
     "output_type": "execute_result"
    }
   ],
   "source": [
    "from sklearn.feature_extraction.text import TfidfVectorizer\n",
    "tfidf = TfidfVectorizer(sublinear_tf=True, min_df=5, norm='l2', encoding='latin-1', ngram_range=(1, 2), stop_words='english')\n",
    "features = tfidf.fit_transform(df.text).toarray()\n",
    "labels = df.category_id\n",
    "features.shape"
   ]
  },
  {
   "cell_type": "code",
   "execution_count": 5,
   "metadata": {
    "scrolled": false
   },
   "outputs": [
    {
     "name": "stdout",
     "output_type": "stream",
     "text": [
      "# 'accident':\n",
      "  . Most correlated unigrams:\n",
      ". ঘট\n",
      ". ঘটন\n",
      ". আহত\n",
      "  . Most correlated bigrams:\n",
      ". ঘট বল\n",
      ". ঘটন থল\n",
      ". ঘটন ঘট\n",
      "# 'art':\n",
      "  . Most correlated unigrams:\n",
      ". বইট\n",
      ". উপন\n",
      ". গল\n",
      "  . Most correlated bigrams:\n",
      ". ঞত এখন\n",
      ". অভ নয়\n",
      ". সর ছব\n",
      "# 'crime':\n",
      "  . Most correlated unigrams:\n",
      ". নউজ\n",
      ". হতઘ\n",
      ". ওস\n",
      "  . Most correlated bigrams:\n",
      ". হত কর\n",
      ". তদন জন\n",
      ". হত মল\n",
      "# 'economics':\n",
      "  . Most correlated unigrams:\n",
      ". এসইর\n",
      ". এসইত\n",
      ". এসই\n",
      "  . Most correlated bigrams:\n",
      ". নদ হয়\n",
      ". সচ এসই\n",
      ". টক এক\n",
      "# 'education':\n",
      "  . Most correlated unigrams:\n",
      ". answer\n",
      ". ii\n",
      ". iii\n",
      "  . Most correlated bigrams:\n",
      ". বহ চন\n",
      ". ii iii\n",
      ". রশ তর\n",
      "# 'entertainment':\n",
      "  . Most correlated unigrams:\n",
      ". ০০\n",
      ". ছব\n",
      ". চলচ\n",
      "  . Most correlated bigrams:\n",
      ". বল উড\n",
      ". অভ নয\n",
      ". অভ নয়\n",
      "# 'environment':\n",
      "  . Most correlated unigrams:\n",
      ". জলব\n",
      ". এনফ\n",
      ". ড়পত\n",
      "  . Most correlated bigrams:\n",
      ". জলব পর\n",
      ". অধ দপ\n",
      ". পর অধ\n",
      "# 'international':\n",
      "  . Most correlated unigrams:\n",
      ". ভরভ\n",
      ". আইএস\n",
      ". এএফপ\n",
      "  . Most correlated bigrams:\n",
      ". পরম অস\n",
      ". ইউক ইন\n",
      ". খবর এএফপ\n",
      "# 'opinion':\n",
      "  . Most correlated unigrams:\n",
      ". মত\n",
      ". মশন\n",
      ". নবગ\n",
      "  . Most correlated bigrams:\n",
      ". ষয় মত\n",
      ". নবગ চন\n",
      ". মত মত\n",
      "# 'politics':\n",
      "  . Most correlated unigrams:\n",
      ". রধ\n",
      ". নমন\n",
      ". এনপ\n",
      "  . Most correlated bigrams:\n",
      ". রপ রসন\n",
      ". এনপ রপ\n",
      ". রধ নমন\n",
      "# 'science_tech':\n",
      "  . Most correlated unigrams:\n",
      ". আইওএস\n",
      ". সফট\n",
      ". টফ\n",
      "  . Most correlated bigrams:\n",
      ". কম উট\n",
      ". যবহ রক\n",
      ". ইক সফট\n",
      "# 'sports':\n",
      "  . Most correlated unigrams:\n",
      ". টবল\n",
      ". টসম\n",
      ". উইক\n",
      "  . Most correlated bigrams:\n",
      ". দক আফ\n",
      ". ওয় নড\n",
      ". অধ য়ক\n"
     ]
    }
   ],
   "source": [
    "from sklearn.feature_selection import chi2\n",
    "import numpy as np\n",
    "N = 3\n",
    "for Product, category_id in sorted(category_to_id.items()):\n",
    "  features_chi2 = chi2(features, labels == category_id)\n",
    "  indices = np.argsort(features_chi2[0])\n",
    "  feature_names = np.array(tfidf.get_feature_names())[indices]\n",
    "  unigrams = [v for v in feature_names if len(v.split(' ')) == 1]\n",
    "  bigrams = [v for v in feature_names if len(v.split(' ')) == 2]\n",
    "  print(\"# '{}':\".format(Product))\n",
    "  print(\"  . Most correlated unigrams:\\n. {}\".format('\\n. '.join(unigrams[-N:])))\n",
    "  print(\"  . Most correlated bigrams:\\n. {}\".format('\\n. '.join(bigrams[-N:])))"
   ]
  },
  {
   "cell_type": "code",
   "execution_count": 6,
   "metadata": {},
   "outputs": [],
   "source": [
    "from sklearn.model_selection import train_test_split\n",
    "from sklearn.feature_extraction.text import CountVectorizer\n",
    "from sklearn.feature_extraction.text import TfidfTransformer\n",
    "from sklearn.naive_bayes import MultinomialNB\n",
    "\n",
    "X_train, X_test, y_train, y_test = train_test_split(df['text'], df['label'], test_size=0.20, random_state = 0)\n",
    "\n",
    "count_vect = CountVectorizer()\n",
    "X_train_counts = count_vect.fit_transform(X_train)\n",
    "tfidf_transformer = TfidfTransformer()\n",
    "X_train_tfidf = tfidf_transformer.fit_transform(X_train_counts)\n",
    "clf = MultinomialNB().fit(X_train_tfidf, y_train)"
   ]
  },
  {
   "cell_type": "code",
   "execution_count": 9,
   "metadata": {},
   "outputs": [],
   "source": [
    "from sklearn.linear_model import LogisticRegression\n",
    "from sklearn.svm import LinearSVC\n",
    "from sklearn.tree import DecisionTreeClassifier\n",
    "from sklearn.neighbors import KNeighborsClassifier\n",
    "from sklearn.neural_network import MLPClassifier\n",
    "\n",
    "from sklearn.model_selection import cross_val_score\n",
    "\n",
    "models = [\n",
    "#     LinearSVC(),\n",
    "#     MultinomialNB(),\n",
    "#     LogisticRegression(),\n",
    "#     DecisionTreeClassifier(),\n",
    "#     KNeighborsClassifier(n_neighbors=4),\n",
    "    MLPClassifier(activation='tanh', hidden_layer_sizes=(10, 10, 10), max_iter=150)\n",
    "]\n",
    "CV = 10\n",
    "cv_df = pd.DataFrame(index=range(CV * len(models)))\n",
    "entries = []\n",
    "for model in models:\n",
    "  model_name = model.__class__.__name__\n",
    "  accuracies = cross_val_score(model, features, labels, scoring='accuracy', cv=CV)\n",
    "    \n",
    "  for fold_idx, accuracy in enumerate(accuracies):\n",
    "    entries.append((model_name, fold_idx, accuracy))\n",
    "cv_df = pd.DataFrame(entries, columns=['model_name', 'fold_idx', 'accuracy'])\n",
    "\n",
    "# import seaborn as sns\n",
    "# sns.boxplot(x='model_name', y='accuracy', data=cv_df)\n",
    "# sns.stripplot(x='model_name', y='accuracy', data=cv_df, \n",
    "#               size=8, jitter=True, edgecolor=\"gray\", linewidth=2)\n",
    "# plt.show()"
   ]
  },
  {
   "cell_type": "code",
   "execution_count": 10,
   "metadata": {},
   "outputs": [
    {
     "data": {
      "text/plain": [
       "model_name\n",
       "MLPClassifier    0.654394\n",
       "Name: accuracy, dtype: float64"
      ]
     },
     "execution_count": 10,
     "metadata": {},
     "output_type": "execute_result"
    }
   ],
   "source": [
    "cv_df.groupby('model_name').accuracy.mean()"
   ]
  }
 ],
 "metadata": {
  "kernelspec": {
   "display_name": "Python 3",
   "language": "python",
   "name": "python3"
  },
  "language_info": {
   "codemirror_mode": {
    "name": "ipython",
    "version": 3
   },
   "file_extension": ".py",
   "mimetype": "text/x-python",
   "name": "python",
   "nbconvert_exporter": "python",
   "pygments_lexer": "ipython3",
   "version": "3.6.3"
  }
 },
 "nbformat": 4,
 "nbformat_minor": 2
}
