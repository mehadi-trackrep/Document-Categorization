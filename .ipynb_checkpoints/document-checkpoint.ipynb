{
 "cells": [
  {
   "cell_type": "code",
   "execution_count": 8,
   "metadata": {},
   "outputs": [
    {
     "name": "stdout",
     "output_type": "stream",
     "text": [
      "      index                                               text          label\n",
      "0         0  বাড়ি বদলাতে গিয়েই মান্না দের মেয়ে সুমিতা দে ও ...  entertainment\n",
      "1         1  গ্লিটজকে শাবনূর বললেন, “নিন্দুকরা নানা কথা রটি...  entertainment\n",
      "2         2  এই বিষয়ে রাজধানী’র রেনেসাঁ হাসপাতালের মেডিকেল ...  entertainment\n",
      "3         3  মরণব্যাধি ক্যানসারের সঙ্গে ১১ মাস যুদ্ধ শেষে ম...  entertainment\n",
      "4         4  রাজা ও রানি পথনাটক নাট্যদল: নাগরিক নাট্যাঙ্গন ...  entertainment\n",
      "5         5  ঢাকা, জুলাই, ০৭ (বিডিনিউজ টোয়েন্টিফোর ডটকম)- আ...  entertainment\n",
      "6         6  অস্ত্র মামলায় দণ্ডপ্রাপ্ত ‘খলনায়ক’ তারকা সঞ্...  entertainment\n",
      "7         7  আলী যাকেরকে মধ্যমণি করে হেমন্তসন্ধ্যা আসর বসবে...  entertainment\n",
      "8         8  বলিউডের প্রেমের চিরায়ত রীতি ভেঙে প্রেমের কথা ...  entertainment\n",
      "9         9  অনুষ্ঠানে আকর্ষণের কেন্দ্রবিন্দু ছিল জলের গান।...  entertainment\n",
      "10       10  বদলে যাবেন সোনালী স্টার জলসার জলনূপুর সিরিয়াল...  entertainment\n",
      "11       11                                                     entertainment\n",
      "12       12  কমিক বইয়ের প্রিয় চরিত্রগুলো যদি আপনার সামনে ...  entertainment\n",
      "13       13  সুনিল গাভাস্কার   মারাঠি সিনেমা ‘সাভলি প্রামাচ...  entertainment\n",
      "14       14  তার প্রতিষ্ঠান বেআইনি বন্ডপ্রকল্পে বিনিয়োগকারী...  entertainment\n",
      "15       15  হলিউডের মধ্যে অ্যাঞ্জেলিনা জোলিই যেন উল্কির সব...  entertainment\n",
      "16       16  ঢাকা, অগাস্ট ১৩ (বিডিনিউজ টোয়েন্টিফোর ডটকম)- ক...  entertainment\n",
      "17       17  আওয়াজ উঠেছিল ২০১১ সালে মুক্তি পাওয়া ‘দম মারো...  entertainment\n",
      "18       18  ঢাকা, অক্টোবর ০৬ (বিডিনিউজ টোয়েন্টিফোর ডটকম)- ...  entertainment\n",
      "19       19  তথ্য ও বিনোদন ক্লোজআপ প্রেজেন্টস হ্যালো ৮৯২...  entertainment\n",
      "20       20  নারায়ণগঞ্জ, ডিসেম্বর ৩০ (বিডিনিউজ টোয়েন্টিফোর ...  entertainment\n",
      "21       21  ননদ-ভাবির সম্পর্কটা দুই রকমের হতে পারে। হয় অম্...  entertainment\n",
      "22       22  ২০১২ সালে বাজারে আসে হাবিব ওয়াহিদের শেষ একক অ্...  entertainment\n",
      "23       23  ঢাকা, নভেম্বর ২৫ (বিডিনিউজ টোয়েন্টিফোর ডটকম)- ...  entertainment\n",
      "24       24  অ্যালবামটিতে সিক্স এর গান রয়েছে ৫ টি এবং রঙ এর...  entertainment\n",
      "25       25  বলাকা সিনেওয়ার্ল্ড, (মিরপুর রোড, ধানমণ্ডি) বলা...  entertainment\n",
      "26       26  ফিরদপুর৴ আগઍট ৮ (িবিড িনউজ)- পੁীকিব জিসমউਣীেনর...  entertainment\n",
      "27       27  যুক্তরাজ্যে মুক্ত চলচ্চিত্র নির্মাতাদের সহায়ক ...  entertainment\n",
      "28       28  অপি করিমের উপস্থাপনায় রুনা লায়লা-আলমগীর দম্প...  entertainment\n",
      "29       29  পরিবারের সদস্যদের সঙ্গে সময় কাটানোর জন্য জেল ...  entertainment\n",
      "...     ...                                                ...            ...\n",
      "4970   4970  ঢাকা, সেপ্টেম্বর ১৯ (বিডিনিউজ টোয়েন্টিফোর ডটকম...         sports\n",
      "4971   4971  ঢাকা, অক্টোবর ৬ (বিডিনিউজ টোয়েন্টিফোর ডটকম) - ...         sports\n",
      "4972   4972  একদিকে রোহিত শর্মা অন্য দিকে মিচেল স্টার্ক। রো...         sports\n",
      "4973   4973  ২০১২ সাল থেকে জাতীয় দলে খেলা ক্রিকেটারদের মনোব...         sports\n",
      "4974   4974                                                            sports\n",
      "4975   4975  ঢাকা, জুন ২০ (বিডিনিউজ টোয়েন্টিফোর ডটকম) - চোট...         sports\n",
      "4976   4976  গোলরক্ষক: সের্হিও রোমেরো (২৭ বছর, ৫৩ ম্যাচ), স...         sports\n",
      "4977   4977  ঢাকা, ১২ সেপ্টেম্বর (বিডিনিউজ টোয়েন্টিফোর ডটকম...         sports\n",
      "4978   4978  ম্যাথিউসের অধিনায়কোচিত ইনিংসের সঙ্গে দীনেশ চান...         sports\n",
      "4979   4979  ইতিহাসের সফলতম ব্যাটসম্যানের লক্ষ্য আগামী মাসে...         sports\n",
      "4980   4980  লন্ডন, ২ ডিসেম্বর (বিডিনিউজ টোয়েন্টিফোর ডটকম)-...         sports\n",
      "4981   4981  প্যারিস , জুলাই ১৬ (বিডিনিউজ টোয়েন্টিফোর ডটকম/...         sports\n",
      "4982   4982  ফাহাদ ৬ খেলায় সাড়ে ৫ পয়েন্ট পেয়ে শিরোপা জিতেন।...         sports\n",
      "4983   4983  বিএনপি চেয়ারপার্সনের উপদেষ্টা ওসমান ফারুক শুক্...         sports\n",
      "4984   4984  ঢাকা, সেপ্টেম্বর ০৫ (বিডিনিউজ টোয়েন্টিফোর ডটকম...         sports\n",
      "4985   4985  ওর্মসলি, ইংল্যান্ড, ৩০ মে (বিডিনিউজ টোয়েন্টিফো...         sports\n",
      "4986   4986  ঢাকা, অক্টোবর ২ (বিডিনিউজ টোয়েন্টিফোর ডটকম) - ...         sports\n",
      "4987   4987  ঢাকা, সেপ্টেম্বর ৮ (বিডিনিউজ টেয়েন্টিফোর ডটকম)...         sports\n",
      "4988   4988  ঢাকা, মার্চ ১২ (বিডিনিউজ টোয়েন্টিফোর ডটকম)- গ্...         sports\n",
      "4989   4989  ঢাকা, অগাস্ট ১২ (বিডিনিউজ টোয়েন্টিফোর ডটকম) - ...         sports\n",
      "4990   4990  লন্ডন, ফেব্রুয়ারি ১২ (বিডিনিউজ টোয়েন্টিফোর ডটক...         sports\n",
      "4991   4991  ঢাকা, ডিসেম্বর ৩০ (বিডিনিউজ টোয়েন্টিফোর ডটকম) ...         sports\n",
      "4992   4992  বরিশাল, নভেম্বর ১৪ (বিডিনিউজ টোয়েন্টিফোর ডটকম)...         sports\n",
      "4993   4993  পাঁচ বছর আগে অস্ট্রেলিয়ান ওপেনে পঞ্চমবারের মত...         sports\n",
      "4994   4994  ঢাকা, ডিসেম্বর ০৭ (বিডিনিউজ টোয়েন্টিফোর ডটকম)-...         sports\n",
      "4995   4995  ঢাকা, মে ২২ (বিডিনিউজ টোয়েন্টিফোর ডটকম) - রয়্য...         sports\n",
      "4996   4996  লন্ডন, ১৬ মে (বিডিনিউজ টোয়েন্টিফোর ডটকম/রয়টার্...         sports\n",
      "4997   4997  স্মৃতিতে ধুলো জমেছে। বাফুফের উদ্যোগে সেই ১৯৯...         sports\n",
      "4998   4998  ঢাকা, জুলাই ১১ (বিডিনিউজ টোয়েন্টিফোর ডটকম) - ব...         sports\n",
      "4999   4999  ঢাকা, সেপ্টেম্বর ৩ (বিডিনিউজ টোয়েন্টিফোর ডটকম)...         sports\n",
      "\n",
      "[5000 rows x 3 columns]\n"
     ]
    }
   ],
   "source": [
    "import pandas as pd\n",
    "df = pd.read_csv('document.csv')\n",
    "print(df)"
   ]
  },
  {
   "cell_type": "code",
   "execution_count": 9,
   "metadata": {
    "collapsed": true
   },
   "outputs": [],
   "source": [
    "from io import StringIO\n",
    "col = ['label', 'text']\n",
    "df = df[col]\n",
    "df = df[pd.notnull(df['text'])]\n",
    "df.columns = ['label', 'text']\n",
    "df['category_id'] = df['label'].factorize()[0]\n",
    "category_id_df = df[['label', 'category_id']].drop_duplicates().sort_values('category_id')\n",
    "category_to_id = dict(category_id_df.values)\n",
    "id_to_category = dict(category_id_df[['category_id', 'label']].values)"
   ]
  },
  {
   "cell_type": "code",
   "execution_count": 10,
   "metadata": {},
   "outputs": [
    {
     "data": {
      "text/plain": [
       "<Figure size 800x600 with 1 Axes>"
      ]
     },
     "metadata": {},
     "output_type": "display_data"
    }
   ],
   "source": [
    "import matplotlib.pyplot as plt\n",
    "fig = plt.figure(figsize=(8,6))\n",
    "df.groupby('label').text.count().plot.bar(ylim=0)\n",
    "plt.show()"
   ]
  },
  {
   "cell_type": "code",
   "execution_count": 12,
   "metadata": {},
   "outputs": [
    {
     "data": {
      "text/plain": [
       "(5000, 34465)"
      ]
     },
     "execution_count": 12,
     "metadata": {},
     "output_type": "execute_result"
    }
   ],
   "source": [
    "from sklearn.feature_extraction.text import TfidfVectorizer\n",
    "tfidf = TfidfVectorizer(sublinear_tf=True, min_df=5, norm='l2', encoding='latin-1', ngram_range=(1, 2), stop_words='english')\n",
    "features = tfidf.fit_transform(df.text).toarray()\n",
    "labels = df.category_id\n",
    "features.shape"
   ]
  },
  {
   "cell_type": "code",
   "execution_count": 14,
   "metadata": {},
   "outputs": [
    {
     "name": "stdout",
     "output_type": "stream",
     "text": [
      "# 'accident':\n",
      "  . Most correlated unigrams:\n",
      ". ঘট\n",
      ". ঘটন\n",
      ". আহত\n",
      "  . Most correlated bigrams:\n",
      ". ঘট বল\n",
      ". ঘটন থল\n",
      ". ঘটন ঘট\n",
      "# 'art':\n",
      "  . Most correlated unigrams:\n",
      ". বইট\n",
      ". উপন\n",
      ". গল\n",
      "  . Most correlated bigrams:\n",
      ". ঞত এখন\n",
      ". অভ নয়\n",
      ". সর ছব\n",
      "# 'crime':\n",
      "  . Most correlated unigrams:\n",
      ". নউজ\n",
      ". হতઘ\n",
      ". ওস\n",
      "  . Most correlated bigrams:\n",
      ". হত কর\n",
      ". তদন জন\n",
      ". হত মল\n",
      "# 'economics':\n",
      "  . Most correlated unigrams:\n",
      ". এসইর\n",
      ". এসইত\n",
      ". এসই\n",
      "  . Most correlated bigrams:\n",
      ". নদ হয়\n",
      ". সচ এসই\n",
      ". টক এক\n",
      "# 'education':\n",
      "  . Most correlated unigrams:\n",
      ". answer\n",
      ". ii\n",
      ". iii\n",
      "  . Most correlated bigrams:\n",
      ". বহ চন\n",
      ". ii iii\n",
      ". রশ তর\n",
      "# 'entertainment':\n",
      "  . Most correlated unigrams:\n",
      ". ০০\n",
      ". ছব\n",
      ". চলচ\n",
      "  . Most correlated bigrams:\n",
      ". বল উড\n",
      ". অভ নয\n",
      ". অভ নয়\n",
      "# 'environment':\n",
      "  . Most correlated unigrams:\n",
      ". জলব\n",
      ". এনফ\n",
      ". ড়পত\n",
      "  . Most correlated bigrams:\n",
      ". জলব পর\n",
      ". অধ দপ\n",
      ". পর অধ\n",
      "# 'international':\n",
      "  . Most correlated unigrams:\n",
      ". ভরভ\n",
      ". আইএস\n",
      ". এএফপ\n",
      "  . Most correlated bigrams:\n",
      ". পরম অস\n",
      ". ইউক ইন\n",
      ". খবর এএফপ\n",
      "# 'opinion':\n",
      "  . Most correlated unigrams:\n",
      ". মত\n",
      ". মশন\n",
      ". নবગ\n",
      "  . Most correlated bigrams:\n",
      ". ষয় মত\n",
      ". নবગ চন\n",
      ". মত মত\n",
      "# 'politics':\n",
      "  . Most correlated unigrams:\n",
      ". রধ\n",
      ". নমন\n",
      ". এনপ\n",
      "  . Most correlated bigrams:\n",
      ". রপ রসন\n",
      ". এনপ রপ\n",
      ". রধ নমন\n",
      "# 'science_tech':\n",
      "  . Most correlated unigrams:\n",
      ". আইওএস\n",
      ". সফট\n",
      ". টফ\n",
      "  . Most correlated bigrams:\n",
      ". কম উট\n",
      ". যবহ রক\n",
      ". ইক সফট\n",
      "# 'sports':\n",
      "  . Most correlated unigrams:\n",
      ". টবল\n",
      ". টসম\n",
      ". উইক\n",
      "  . Most correlated bigrams:\n",
      ". দক আফ\n",
      ". ওয় নড\n",
      ". অধ য়ক\n"
     ]
    }
   ],
   "source": [
    "from sklearn.feature_selection import chi2\n",
    "import numpy as np\n",
    "N = 3\n",
    "for Product, category_id in sorted(category_to_id.items()):\n",
    "  features_chi2 = chi2(features, labels == category_id)\n",
    "  indices = np.argsort(features_chi2[0])\n",
    "  feature_names = np.array(tfidf.get_feature_names())[indices]\n",
    "  unigrams = [v for v in feature_names if len(v.split(' ')) == 1]\n",
    "  bigrams = [v for v in feature_names if len(v.split(' ')) == 2]\n",
    "  print(\"# '{}':\".format(Product))\n",
    "  print(\"  . Most correlated unigrams:\\n. {}\".format('\\n. '.join(unigrams[-N:])))\n",
    "  print(\"  . Most correlated bigrams:\\n. {}\".format('\\n. '.join(bigrams[-N:])))"
   ]
  },
  {
   "cell_type": "code",
   "execution_count": 17,
   "metadata": {
    "collapsed": true
   },
   "outputs": [],
   "source": [
    "from sklearn.model_selection import train_test_split\n",
    "from sklearn.feature_extraction.text import CountVectorizer\n",
    "from sklearn.feature_extraction.text import TfidfTransformer\n",
    "from sklearn.naive_bayes import MultinomialNB\n",
    "X_train, X_test, y_train, y_test = train_test_split(df['text'], df['label'], random_state = 0)\n",
    "count_vect = CountVectorizer()\n",
    "X_train_counts = count_vect.fit_transform(X_train)\n",
    "tfidf_transformer = TfidfTransformer()\n",
    "X_train_tfidf = tfidf_transformer.fit_transform(X_train_counts)\n",
    "clf = MultinomialNB().fit(X_train_tfidf, y_train)"
   ]
  },
  {
   "cell_type": "code",
   "execution_count": 18,
   "metadata": {},
   "outputs": [
    {
     "data": {
      "image/png": "[encoded data removed]",
      "text/plain": [
       "<Figure size 432x288 with 1 Axes>"
      ]
     },
     "metadata": {},
     "output_type": "display_data"
    }
   ],
   "source": [
    "from sklearn.linear_model import LogisticRegression\n",
    "from sklearn.ensemble import RandomForestClassifier\n",
    "from sklearn.svm import LinearSVC\n",
    "from sklearn.model_selection import cross_val_score\n",
    "models = [\n",
    "    RandomForestClassifier(n_estimators=200, max_depth=3, random_state=0),\n",
    "    LinearSVC(),\n",
    "    MultinomialNB(),\n",
    "    LogisticRegression(random_state=0),\n",
    "]\n",
    "CV = 5\n",
    "cv_df = pd.DataFrame(index=range(CV * len(models)))\n",
    "entries = []\n",
    "for model in models:\n",
    "  model_name = model.__class__.__name__\n",
    "  accuracies = cross_val_score(model, features, labels, scoring='accuracy', cv=CV)\n",
    "  for fold_idx, accuracy in enumerate(accuracies):\n",
    "    entries.append((model_name, fold_idx, accuracy))\n",
    "cv_df = pd.DataFrame(entries, columns=['model_name', 'fold_idx', 'accuracy'])\n",
    "import seaborn as sns\n",
    "sns.boxplot(x='model_name', y='accuracy', data=cv_df)\n",
    "sns.stripplot(x='model_name', y='accuracy', data=cv_df, \n",
    "              size=8, jitter=True, edgecolor=\"gray\", linewidth=2)\n",
    "plt.show()"
   ]
  },
  {
   "cell_type": "code",
   "execution_count": 19,
   "metadata": {},
   "outputs": [
    {
     "data": {
      "text/plain": [
       "model_name\n",
       "LinearSVC                 0.726328\n",
       "LogisticRegression        0.678732\n",
       "MultinomialNB             0.422378\n",
       "RandomForestClassifier    0.260805\n",
       "Name: accuracy, dtype: float64"
      ]
     },
     "execution_count": 19,
     "metadata": {},
     "output_type": "execute_result"
    }
   ],
   "source": [
    "cv_df.groupby('model_name').accuracy.mean()"
   ]
  }
 ],
 "metadata": {
  "kernelspec": {
   "display_name": "Python 3",
   "language": "python",
   "name": "python3"
  },
  "language_info": {
   "codemirror_mode": {
    "name": "ipython",
    "version": 3
   },
   "file_extension": ".py",
   "mimetype": "text/x-python",
   "name": "python",
   "nbconvert_exporter": "python",
   "pygments_lexer": "ipython3",
   "version": "3.6.2"
  }
 },
 "nbformat": 4,
 "nbformat_minor": 2
}
